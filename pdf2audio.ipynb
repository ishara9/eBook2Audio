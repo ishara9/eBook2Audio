{
 "cells": [
  {
   "cell_type": "code",
   "execution_count": 2,
   "id": "9966726f",
   "metadata": {},
   "outputs": [
    {
     "name": "stdout",
     "output_type": "stream",
     "text": [
      "Requirement already satisfied: edge-tts in .\\.venv\\lib\\site-packages (7.0.2)\n",
      "Collecting pymupdf\n",
      "  Downloading pymupdf-1.26.3-cp39-abi3-win_amd64.whl.metadata (3.4 kB)\n",
      "Requirement already satisfied: aiohttp<4.0.0,>=3.8.0 in .\\.venv\\lib\\site-packages (from edge-tts) (3.12.14)\n",
      "Requirement already satisfied: certifi>=2023.11.17 in .\\.venv\\lib\\site-packages (from edge-tts) (2025.7.14)\n",
      "Requirement already satisfied: srt<4.0.0,>=3.4.1 in .\\.venv\\lib\\site-packages (from edge-tts) (3.5.3)\n",
      "Requirement already satisfied: tabulate<1.0.0,>=0.4.4 in .\\.venv\\lib\\site-packages (from edge-tts) (0.9.0)\n",
      "Requirement already satisfied: typing-extensions<5.0.0,>=4.1.0 in .\\.venv\\lib\\site-packages (from edge-tts) (4.14.1)\n",
      "Requirement already satisfied: aiohappyeyeballs>=2.5.0 in .\\.venv\\lib\\site-packages (from aiohttp<4.0.0,>=3.8.0->edge-tts) (2.6.1)\n",
      "Requirement already satisfied: aiosignal>=1.4.0 in .\\.venv\\lib\\site-packages (from aiohttp<4.0.0,>=3.8.0->edge-tts) (1.4.0)\n",
      "Requirement already satisfied: attrs>=17.3.0 in .\\.venv\\lib\\site-packages (from aiohttp<4.0.0,>=3.8.0->edge-tts) (25.3.0)\n",
      "Requirement already satisfied: frozenlist>=1.1.1 in .\\.venv\\lib\\site-packages (from aiohttp<4.0.0,>=3.8.0->edge-tts) (1.7.0)\n",
      "Requirement already satisfied: multidict<7.0,>=4.5 in .\\.venv\\lib\\site-packages (from aiohttp<4.0.0,>=3.8.0->edge-tts) (6.6.3)\n",
      "Requirement already satisfied: propcache>=0.2.0 in .\\.venv\\lib\\site-packages (from aiohttp<4.0.0,>=3.8.0->edge-tts) (0.3.2)\n",
      "Requirement already satisfied: yarl<2.0,>=1.17.0 in .\\.venv\\lib\\site-packages (from aiohttp<4.0.0,>=3.8.0->edge-tts) (1.20.1)\n",
      "Requirement already satisfied: idna>=2.0 in .\\.venv\\lib\\site-packages (from yarl<2.0,>=1.17.0->aiohttp<4.0.0,>=3.8.0->edge-tts) (3.10)\n",
      "Downloading pymupdf-1.26.3-cp39-abi3-win_amd64.whl (18.7 MB)\n",
      "   ---------------------------------------- 0.0/18.7 MB ? eta -:--:--\n",
      "   --- ------------------------------------ 1.8/18.7 MB 10.1 MB/s eta 0:00:02\n",
      "   --------- ------------------------------ 4.5/18.7 MB 10.7 MB/s eta 0:00:02\n",
      "   --------------- ------------------------ 7.3/18.7 MB 11.9 MB/s eta 0:00:01\n",
      "   ----------------------- ---------------- 11.0/18.7 MB 13.2 MB/s eta 0:00:01\n",
      "   ------------------------------ --------- 14.4/18.7 MB 13.9 MB/s eta 0:00:01\n",
      "   ---------------------------------------  18.6/18.7 MB 15.3 MB/s eta 0:00:01\n",
      "   ---------------------------------------- 18.7/18.7 MB 14.4 MB/s eta 0:00:00\n",
      "Installing collected packages: pymupdf\n",
      "Successfully installed pymupdf-1.26.3\n",
      "Note: you may need to restart the kernel to use updated packages.\n"
     ]
    },
    {
     "name": "stderr",
     "output_type": "stream",
     "text": [
      "\n",
      "[notice] A new release of pip is available: 25.1.1 -> 25.2\n",
      "[notice] To update, run: python.exe -m pip install --upgrade pip\n"
     ]
    }
   ],
   "source": [
    "pip install edge-tts pymupdf"
   ]
  },
  {
   "cell_type": "code",
   "execution_count": 7,
   "id": "c82bdb5a",
   "metadata": {},
   "outputs": [
    {
     "name": "stdout",
     "output_type": "stream",
     "text": [
      "📄 Reading PDF: Zhang et al. - 2025 - Continual Learning with Strategic Selection and Forgetting for Network Intrusion Detection.pdf\n",
      "🧾 Page 1: 5745 characters\n",
      "🧾 Page 2: 5169 characters\n",
      "🧾 Page 3: 4767 characters\n",
      "🧾 Page 4: 4694 characters\n",
      "🧾 Page 5: 5238 characters\n",
      "🧾 Page 6: 5948 characters\n",
      "🧾 Page 7: 6473 characters\n",
      "🧾 Page 8: 4482 characters\n",
      "🧾 Page 9: 6093 characters\n",
      "🧾 Page 10: 7622 characters\n",
      "\n",
      "🧩 Total chunks: 6 (max 10000 characters each)\n",
      "\n",
      "🎤 Generating: pdf_audio_chunks\\zhang2025_part1.m4a (9996 chars)\n",
      "✅ Saved: pdf_audio_chunks\\zhang2025_part1.m4a\n",
      "\n",
      "🎤 Generating: pdf_audio_chunks\\zhang2025_part2.m4a (9994 chars)\n",
      "✅ Saved: pdf_audio_chunks\\zhang2025_part2.m4a\n",
      "\n",
      "🎤 Generating: pdf_audio_chunks\\zhang2025_part3.m4a (9998 chars)\n",
      "✅ Saved: pdf_audio_chunks\\zhang2025_part3.m4a\n",
      "\n",
      "🎤 Generating: pdf_audio_chunks\\zhang2025_part4.m4a (9999 chars)\n",
      "✅ Saved: pdf_audio_chunks\\zhang2025_part4.m4a\n",
      "\n",
      "🎤 Generating: pdf_audio_chunks\\zhang2025_part5.m4a (9986 chars)\n",
      "✅ Saved: pdf_audio_chunks\\zhang2025_part5.m4a\n",
      "\n",
      "🎤 Generating: pdf_audio_chunks\\zhang2025_part6.m4a (6258 chars)\n",
      "✅ Saved: pdf_audio_chunks\\zhang2025_part6.m4a\n",
      "\n"
     ]
    }
   ],
   "source": [
    "import fitz  # PyMuPDF\n",
    "import edge_tts\n",
    "import asyncio\n",
    "import textwrap\n",
    "import os\n",
    "import re\n",
    "\n",
    "async def pdf_to_m4a_chunks(pdf_path, output_base=\"output\", voice=\"en-US-JennyNeural\", max_chunk_size=10000):\n",
    "    print(f\"📄 Reading PDF: {pdf_path}\")\n",
    "    doc = fitz.open(pdf_path)\n",
    "    full_text = \"\"\n",
    "\n",
    "    for page_num, page in enumerate(doc, start=1):\n",
    "        text = page.get_text()\n",
    "        print(f\"🧾 Page {page_num}: {len(text)} characters\")\n",
    "        full_text += re.sub(r'\\s+', ' ', text) + \" \"\n",
    "\n",
    "    doc.close()\n",
    "\n",
    "    if not full_text.strip():\n",
    "        raise ValueError(\"❌ No text found in the PDF.\")\n",
    "\n",
    "    # Split into safe chunks\n",
    "    chunks = textwrap.wrap(full_text, max_chunk_size, break_long_words=False, replace_whitespace=False)\n",
    "    print(f\"\\n🧩 Total chunks: {len(chunks)} (max {max_chunk_size} characters each)\\n\")\n",
    "\n",
    "    os.makedirs(\"pdf_audio_chunks\", exist_ok=True)\n",
    "\n",
    "    for i, chunk in enumerate(chunks, start=1):\n",
    "        file_path = os.path.join(\"pdf_audio_chunks\", f\"{output_base}_part{i}.m4a\")\n",
    "        print(f\"🎤 Generating: {file_path} ({len(chunk)} chars)\")\n",
    "        communicate = edge_tts.Communicate(text=chunk, voice=voice)\n",
    "        await communicate.save(file_path)\n",
    "        print(f\"✅ Saved: {file_path}\\n\")\n",
    "\n",
    "# Usage in Jupyter or async environment\n",
    "pdf_path = \"Zhang et al. - 2025 - Continual Learning with Strategic Selection and Forgetting for Network Intrusion Detection.pdf\"  # Replace with your filename\n",
    "await pdf_to_m4a_chunks(pdf_path, output_base=\"zhang2025\", voice=\"en-US-JennyNeural\")\n"
   ]
  }
 ],
 "metadata": {
  "kernelspec": {
   "display_name": ".venv",
   "language": "python",
   "name": "python3"
  },
  "language_info": {
   "codemirror_mode": {
    "name": "ipython",
    "version": 3
   },
   "file_extension": ".py",
   "mimetype": "text/x-python",
   "name": "python",
   "nbconvert_exporter": "python",
   "pygments_lexer": "ipython3",
   "version": "3.11.0"
  }
 },
 "nbformat": 4,
 "nbformat_minor": 5
}
