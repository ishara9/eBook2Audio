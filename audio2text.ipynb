{
 "cells": [
  {
   "cell_type": "markdown",
   "id": "cc6a58e2",
   "metadata": {},
   "source": [
    "# Audio to Text"
   ]
  },
  {
   "cell_type": "code",
   "execution_count": null,
   "id": "365b9379",
   "metadata": {},
   "outputs": [],
   "source": [
    "pip install yt-dlp numpy opencv-python Pillow matplotlib moviepy transformers pydub torch openai-whisper ffmpeg-python tqdm"
   ]
  },
  {
   "cell_type": "markdown",
   "id": "359ca039",
   "metadata": {},
   "source": [
    "## (Optional) Donwload youtube video"
   ]
  },
  {
   "cell_type": "code",
   "execution_count": null,
   "id": "33727155",
   "metadata": {},
   "outputs": [],
   "source": [
    "import yt_dlp\n",
    "\n",
    "# Replace with your YouTube video URL\n",
    "video_url = 'https://www.youtube.com/watch?v=eUwR_CbezmQ'\n",
    "\n",
    "# Optional: Set download options\n",
    "ydl_opts = {\n",
    "    'format': 'bestvideo+bestaudio/best',  # Best quality\n",
    "    'outtmpl': 'downloaded_video.%(ext)s',  # Output filename\n",
    "    'quiet': False,                         # Show progress\n",
    "}\n",
    "\n",
    "# Download the video\n",
    "with yt_dlp.YoutubeDL(ydl_opts) as ydl:\n",
    "    ydl.download([video_url])"
   ]
  },
  {
   "cell_type": "markdown",
   "id": "1ee89fb8",
   "metadata": {},
   "source": [
    "## Import all libs"
   ]
  },
  {
   "cell_type": "code",
   "execution_count": 1,
   "id": "8b1c6bf3",
   "metadata": {},
   "outputs": [
    {
     "name": "stderr",
     "output_type": "stream",
     "text": [
      "d:\\dev\\ebook2audio\\.venv\\Lib\\site-packages\\tqdm\\auto.py:21: TqdmWarning: IProgress not found. Please update jupyter and ipywidgets. See https://ipywidgets.readthedocs.io/en/stable/user_install.html\n",
      "  from .autonotebook import tqdm as notebook_tqdm\n"
     ]
    }
   ],
   "source": [
    "import sys\n",
    "import os\n",
    "import numpy as np\n",
    "import matplotlib.pyplot as plt\n",
    "import matplotlib.animation as animation\n",
    "from matplotlib import rcParams\n",
    "\n",
    "from moviepy.config import check\n",
    "from moviepy.audio.io.AudioFileClip import AudioFileClip\n",
    "from pydub import AudioSegment\n",
    "from pydub.playback import play\n",
    "from transformers import pipeline\n",
    "import re\n",
    "import whisper\n",
    "from tqdm import tqdm"
   ]
  },
  {
   "cell_type": "markdown",
   "id": "75af3a01",
   "metadata": {},
   "source": [
    "### Audio to text Transcriber (main logic)"
   ]
  },
  {
   "cell_type": "code",
   "execution_count": 3,
   "id": "2c89f724",
   "metadata": {},
   "outputs": [],
   "source": [
    "from tqdm import tqdm\n",
    "import whisper\n",
    "import time\n",
    "\n",
    "def convert_audio_to_text(audio_path, output_txt_path=\"transcription.txt\", words_per_chunk=10):\n",
    "    print(\"🔄 Loading Whisper model...\")\n",
    "    start_load = time.time()\n",
    "    model = whisper.load_model(\"base\") # models: \"tiny\", \"base\", \"small\", \"medium\", or \"large\"\n",
    "    print(f\"✅ Model loaded in {time.time() - start_load:.2f} seconds.\\n\")\n",
    "\n",
    "    print(\"🎧 Transcribing audio... (this might take a while)\")\n",
    "    start_transcribe = time.time()\n",
    "    result = model.transcribe(audio_path)\n",
    "    transcribe_time = time.time() - start_transcribe\n",
    "    print(f\"✅ Transcription completed in {transcribe_time:.2f} seconds.\\n\")\n",
    "\n",
    "    full_text = result[\"text\"]\n",
    "\n",
    "    print(\"✂️ Splitting text into chunks...\")\n",
    "    words = full_text.strip().split()\n",
    "    chunks = [\n",
    "        \" \".join(words[i:i + words_per_chunk])\n",
    "        for i in range(0, len(words), words_per_chunk)\n",
    "    ]\n",
    "    print(f\"✅ Text split into {len(chunks)} chunks.\\n\")\n",
    "\n",
    "    print(f\"💾 Writing to file: {output_txt_path}\")\n",
    "    with open(output_txt_path, \"w\", encoding=\"utf-8\") as f:\n",
    "        for chunk in tqdm(chunks, desc=\"Writing chunks\", unit=\"chunk\"):\n",
    "            f.write(chunk.strip() + \"\\n\")\n",
    "\n",
    "    print(f\"\\n✅ Transcription saved to {output_txt_path} with ~{words_per_chunk}-word chunks.\")\n"
   ]
  },
  {
   "cell_type": "markdown",
   "id": "7f81c6cc",
   "metadata": {},
   "source": [
    "### Extract audio from video"
   ]
  },
  {
   "cell_type": "code",
   "execution_count": 9,
   "id": "948fe55c",
   "metadata": {},
   "outputs": [],
   "source": [
    "import ffmpeg\n",
    "import os\n",
    "\n",
    "def extract_audio_ffmpeg(video_path):\n",
    "    audio_output_path = f\"{video_path}.wav\"\n",
    "    if not os.path.exists(video_path):\n",
    "        raise FileNotFoundError(f\"Video file not found: {video_path}\")\n",
    "    try:\n",
    "        ffmpeg.input(video_path).output(audio_output_path, ac=1, ar='16000').run(overwrite_output=True)\n",
    "        print(f\"Audio extracted to: {audio_output_path}\")\n",
    "        return audio_output_path\n",
    "    except ffmpeg.Error as e:\n",
    "        print(\"FFmpeg error:\", e.stderr.decode())\n",
    "        raise"
   ]
  },
  {
   "cell_type": "code",
   "execution_count": null,
   "id": "f370766a",
   "metadata": {},
   "outputs": [],
   "source": [
    "extracted_audio_path = extract_audio_ffmpeg('file.webm')"
   ]
  },
  {
   "cell_type": "code",
   "execution_count": null,
   "id": "24b8fafc",
   "metadata": {},
   "outputs": [],
   "source": [
    "convert_audio_to_text(extracted_audio_path,f\"{extracted_audio_path}.txt\")"
   ]
  }
 ],
 "metadata": {
  "kernelspec": {
   "display_name": ".venv",
   "language": "python",
   "name": "python3"
  },
  "language_info": {
   "codemirror_mode": {
    "name": "ipython",
    "version": 3
   },
   "file_extension": ".py",
   "mimetype": "text/x-python",
   "name": "python",
   "nbconvert_exporter": "python",
   "pygments_lexer": "ipython3",
   "version": "3.11.0"
  }
 },
 "nbformat": 4,
 "nbformat_minor": 5
}
