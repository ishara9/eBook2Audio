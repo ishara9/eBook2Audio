{
 "cells": [
  {
   "cell_type": "markdown",
   "id": "d37b8405",
   "metadata": {},
   "source": [
    "# eBook to Audio project"
   ]
  },
  {
   "cell_type": "markdown",
   "id": "6f0df9ca",
   "metadata": {},
   "source": [
    "### install libs"
   ]
  },
  {
   "cell_type": "code",
   "execution_count": 5,
   "id": "da542dd4",
   "metadata": {},
   "outputs": [],
   "source": [
    "# pip install gTTS pydub ebooklib bs4 edge-tts"
   ]
  },
  {
   "cell_type": "code",
   "execution_count": null,
   "id": "8a7c6b5f",
   "metadata": {},
   "outputs": [],
   "source": [
    "# Variables\n",
    "next_chapter = 501\n",
    "number_of_chapters = 100"
   ]
  },
  {
   "cell_type": "markdown",
   "id": "0d3fe6fb",
   "metadata": {},
   "source": [
    "## extract chapters"
   ]
  },
  {
   "cell_type": "code",
   "execution_count": 7,
   "id": "ed0317b6",
   "metadata": {},
   "outputs": [],
   "source": [
    "import re\n",
    "from ebooklib import epub, ITEM_DOCUMENT\n",
    "from bs4 import BeautifulSoup\n",
    "\n",
    "def clean_text_for_tts(text):\n",
    "    # 1. Decode escaped characters like \\n, \\'\n",
    "    text = text.encode(\"utf-8\").decode(\"unicode_escape\")\n",
    "\n",
    "    # 2. Ensure spacing after sentence-ending punctuation (before any letter or quote)\n",
    "    text = re.sub(r'([.?!])(?=[\"A-Za-z])', r'\\1 ', text)\n",
    "\n",
    "    # 3. Add longer pause for sentence ends\n",
    "    text = re.sub(r'\\.\\s+', '. ... ', text)\n",
    "    text = re.sub(r'\\?\\s+', '? ... ', text)\n",
    "    text = re.sub(r'!\\s+', '! ... ', text)\n",
    "\n",
    "    # 4. Fix smashed dialogue punctuation (e.g., ‘.”Word’ → ‘. ”Word’)\n",
    "    text = re.sub(r'([.?!])(\")', r'\\1 \\2', text)\n",
    "\n",
    "    # 5. Add pause after newlines\n",
    "    text = re.sub(r'\\n+', '\\n... \\n', text)\n",
    "\n",
    "    # 6. Remove leftover backslashes\n",
    "    text = text.replace(\"\\\\\", \"\")\n",
    "\n",
    "    return text.strip()\n",
    "\n",
    "def extract_actual_chapters(epub_path):\n",
    "    book = epub.read_epub(epub_path)\n",
    "    chapters = []\n",
    "\n",
    "    for idx, item in enumerate(book.get_items(), start=1):\n",
    "        if item.get_type() != ITEM_DOCUMENT:\n",
    "            continue\n",
    "\n",
    "        soup = BeautifulSoup(item.get_content(), 'html.parser')\n",
    "        text = soup.get_text().strip()\n",
    "\n",
    "        if idx == 1:\n",
    "            continue  # Skip full dump\n",
    "        if idx == 2 and \"Chapter 701\" in text:\n",
    "            parts = re.split(r\"(Chapter\\s+\\d+[:\\-]?\\s+)\", text)\n",
    "            for i in range(1, len(parts) - 1, 2):\n",
    "                title = parts[i].strip()\n",
    "                body = parts[i + 1].strip()\n",
    "                if len(body) > 30:\n",
    "                    full = f\"{title}\\n\\n{body}\"\n",
    "                    cleaned = clean_text_for_tts(full)\n",
    "                    chapters.append(cleaned)\n",
    "            continue\n",
    "\n",
    "        match = re.search(r\"(Chapter\\s+\\d+[:\\-]?\\s+.*)\", text, re.IGNORECASE)\n",
    "        if match:\n",
    "            chapter_start = match.start()\n",
    "            chapter_text = text[chapter_start:].strip()\n",
    "            if len(chapter_text) > 50:\n",
    "                cleaned = clean_text_for_tts(chapter_text)\n",
    "                chapters.append(cleaned)\n",
    "\n",
    "    return chapters\n"
   ]
  },
  {
   "cell_type": "markdown",
   "id": "1d60b6e7",
   "metadata": {},
   "source": [
    "## Save Audio"
   ]
  },
  {
   "cell_type": "code",
   "execution_count": 8,
   "id": "fcfc10fc",
   "metadata": {},
   "outputs": [],
   "source": [
    "import os\n",
    "import edge_tts\n",
    "import asyncio\n",
    "\n",
    "# en-US-JennyNeural is nice soft, but slower to build 15 secs\n",
    "# en-US-AriaNeural is more robotic tone, but faster to build 5 secs\n",
    "async def save_chapters_to_m4a(chapters, output_dir=\"chapters_m4a\", max_chapters=10, start_index=0, voice=\"en-US-JennyNeural\"):\n",
    "    os.makedirs(output_dir, exist_ok=True)\n",
    "\n",
    "    end_index = start_index + max_chapters\n",
    "    chapters_to_save = chapters[start_index:end_index]\n",
    "\n",
    "    print(f\"\\n🚀 Starting conversion from Chapter {start_index + 1} to Chapter {min(end_index, len(chapters))}\")\n",
    "    print(f\"📚 Total Chapters to Save: {len(chapters_to_save)}\\n\")\n",
    "\n",
    "    for i, chapter in enumerate(chapters_to_save, start=start_index + 1):\n",
    "        try:\n",
    "            chapter_title_line = next((line for line in chapter.splitlines() if line.lower().startswith(\"chapter\")), f\"Chapter_{i}\")\n",
    "            chapter_num = chapter_title_line.split()[1].strip(\":\")\n",
    "            file_path = os.path.join(output_dir, f\"chapter_{chapter_num}.m4a\")\n",
    "\n",
    "            print(f\"🔊 [Chapter {i}] Preparing: {chapter_title_line}\")\n",
    "            print(f\"📄 Characters: {len(chapter)}\")\n",
    "\n",
    "            communicate = edge_tts.Communicate(text=chapter, voice=voice)\n",
    "            await communicate.save(file_path)\n",
    "\n",
    "            file_size_kb = os.path.getsize(file_path) // 1024\n",
    "            print(f\"✅ Saved: {file_path} ({file_size_kb} KB)\\n\")\n",
    "\n",
    "        except Exception as e:\n",
    "            print(f\"❌ Error in Chapter {i}: {e}\\n\")"
   ]
  },
  {
   "cell_type": "code",
   "execution_count": 9,
   "id": "43344380",
   "metadata": {},
   "outputs": [
    {
     "name": "stdout",
     "output_type": "stream",
     "text": [
      "Chapter 702: Moving on\n",
      "... \n",
      "When leaving the Parasites to their own devices, there was the chance that they could use this time to run away. ... To escape the planet, however, where would they even go? ... Who would they run off to? ... Wevil, had promised Quinn that he would follow him from now onwards, and to leave everything to him and Hana. ... Even though Tony was the vice leader, the faction members actually had the most respect for these two. ... Whenever something had gone wrong, they would be the ones that tried to reason with Mantis, to give them part of the antidote earlier than needed. ... While Tony would be the one who was Mantis's yes men. ... Saying Yes to every suggestion and everything he did. ... \"Alright everyone, it's time for you all to decide! ... \" Wevil shouted from on top of the platform. ... The faction members were recovering and they had gained enough strength to move again. ... But they were unaware of the bombshell that Wevil was about to drop on them all. ... \"You have a choiceâ¦. ... \"*****Heading back, Quinn and Sil had no trouble and they had arrived at the shelter sooner than they thought. ... A message had been sent back ahead of time, and Peter had responded saying that Dennis was acting strangely, but that was a while ago. ... The two of them went through the teleporter and were onboard the Cursed ship, running straight for the command centre, but before they could even reach there. ... Peter was standing in the main large open hall. ... \"Quinn, did you manage to solve it? ... \" Peter asked. ... \"I didn't, but Sil can now remove the poison. ... Where are the others? ... \" Quinn asked. ... Peter led the way but didn't say much, he didn't know what to say to Quinn to prepare him for what had happened while he was on his way. ... If anything Quinn seemed to be in a happy mood that he had actually found a way to save the others. ... Then entering the training room, Quinn could see many people in the room. ... It reeked of blood, but he expected this. ... As time went on, he imagined more of them were throwing up on the ground like the others. ... Sam was present, along with Paul and Kazz. ... The two of them were standing over Dennis, Nate and Fex. ... They looked like they had been beaten a few times, but were at least still alive. ... Sil seeing them rushed over quickly and got to work removing the poison. ... Scanning the room more, he saw Linda, away from them all. ... She was sitting down on the floor with her head on her knees. ... Quinn had seen Sil do this a number of times when he was upset. ... However, what caught his attention more than that, was two things. ... First, the sound of crying coming from Linda, she was uncontrollably sobbing and even now tears were falling to the floor. ... The second thing was what was in front of her. ... A sheet had been placed over something and right at the bottom, a pair of boots could be seen sticking out from them. ... \"No, no I brought back Sil, we can get rid of the poison,\" Quinn said walking towards her. ... Seeing Linda, and the body in front of her, it didn't take long for him to put the two things together. ... When she heard someone coming closer, she looked up to see Quinn through her blurry vision. ... \"Quinnâ¦\" She cried. ... \"Blip, you can save himâ¦ Right? ... Please tell me you can save him! ... \" She continued to sob. ... It was her last hope, hoping that Kazz was wrong about what she had said. ... Kneeling down on his knees, Quinn removed the sheet to have a look underneath it, a bloody mess known as Blip. ... He closed his eyes and placed the sheet back over. ... He knew Blip was dead. ... \"I'm sorryâ¦ I'm sorry I wasn't here, I can't bring back the dead. ... \" Quinn said softly. ... Placing her head back down, she continued to sob, Quinn went to approach her, hoping to perhaps comfort her. ... \"Don't, please Quinn, just go away. ... I know it's not your fault, or Fex's but I just can't look at you right now, not for a while. ... \" Linda said. ... Quinn understood and decided to leave her be. ... She was such a strong woman and it broke his heart to see her like this, but then he was starting to wonder what happened? ... Blip wasn't infected by the poison in the first place. ... Thinking back at the image of Blip in his mind, there was something he could see on the neck. ... It was two bite marks. ... Immediately, Quinn's mind wanted to blame Kazz, and walking back towards them a strange energy was overflowing from him. ... He had enough, if Kazz was behind this, then he was unsure if he could hold himself back this time, even his gauntlets were already covered in a strange shadow. ... \"Quinn, it wasn't Kazz,\" Paul said, knowing the look in his eyes. ... Hearing this, he started to think about what Linda had said, about how she said she didn't blame him or 'Fex' for this. ... The anger started to calm down, and the shadow disappeared. ... \"But how? ... \"Everything was explained to Quinn about what had happened while they were away. ... He was kicking himself in the foot wondering, if he had stayed behind, if the outcome would have been different. ... However, Sam, Nate and Dennis all tried their best to comfort him, especially Dennis who was more thankful than even before to Quinn. ... He knew that his life was hanging on the line, and if Quin hadn't left to deal with the Parasites as quickly as he did, there was a good chance that he could be dead as well. ... Eventually, the news was released to everyone on the Cursed ship. ... A day of mourning had been given to Blip. ... It came as a shock, especially since a lot of members of the Crows had joined because of him. ... What surprised everyone even more, was Linda had yet to be seen at the morning event. ... They were expecting some type of speech from her, but nothing had occurred. ... Blip's death was blamed on the Parasites, and with that, the news of Quinn attacking them was also spread. ... They weren't informed of how he did so alone, but they couldn't have imagined a large group having acted. ... Otherwise, more faction members would have known about it. ... To them, the order of events were jumbled. ... They had thought Blip had been killed by the Parasites some ways and then Quinn went to deal with them, which just proved to all of them how much Quinn cared about their lives. ... He thought that maybe people would leave after such a thing, but they had all decided to stay. ... Showing him more respect compared to before. ... Wevil had kept to his promise. ... He was unable to get in contact with Daisy, as they were dealing with their own things, but he left them a message blaming the event on the Parasites. ... They decided to stick to the story that was spread around the Cursed faction. ... After the duel, Mantis had attacked Blip, and Quinn retaliated. ... Most of the Parasite members agreed to join under the Cursed faction, they were very thankful after the poison was removed like Wevil thought they would be. ... The members explained the situation to their families as they were unaware of what was really going on in the Parasites. ... The shelter they had could remain and now was in the process of being built permanently. ... They wanted a person to oversee this matter, and in the end, Linda was the one who volunteered. ... She had recovered a little from her brother's death, trying to act normal with everyone, but there was an odd feeling around her whenever they would converse. ... When she volunteered it came as a surprise, and they thought it might be best to give her a task like so, to get her mind off it. ... When going through the Parasite's belongings, they found that Mantis had written his own personal Poison ability book. ... It was given to Paul to look over and he had found that it had cultivation techniques that would teach someone to get their ability up to level eight. ... It was the thing he needed most right now. ... It was a tough time for the Cursed faction, but Paul reminded them that many more tough times were probably to come in the future, even though big things were happening they couldn't just take a break. ... They needed to proceed with their plan. ... The plan that would place them in prime position to become part of the big three. ... A powerhouse of the human race. ... In those two days, wiping the sweat from his head, Alex looked at the last piece of equipment on his table.'Finally the emperor tier equipment.. ... is done.'****For MVS artwork and updates follow on Instagram and Facebook: jksmanga\n",
      "\n",
      "🚀 Starting conversion from Chapter 501 to Chapter 501\n",
      "📚 Total Chapters to Save: 1\n",
      "\n",
      "🔊 [Chapter 501] Preparing: Chapter 1200: One of them\n",
      "📄 Characters: 9319\n",
      "✅ Saved: chapters_m4a\\chapter_1200.m4a (3165 KB)\n",
      "\n"
     ]
    }
   ],
   "source": [
    "chapters = extract_actual_chapters(\"audio_books/9kafe.com-my-vampire-system-c701-1400.epub\")\n",
    "print(chapters[2])  # Should print Chapter 702 with body\n",
    "\n",
    "#start index = 700 + start_index (701 => 1, 800 => 100, 900 => 200, etc.)\n",
    "# Save chapters starting from Chapter 701 (index 70) to 50 chapters\n",
    "#930 done!\n",
    "await save_chapters_to_m4a(chapters, max_chapters=number_of_chapters, start_index=next_chapter)"
   ]
  },
  {
   "cell_type": "code",
   "execution_count": 10,
   "id": "6430b777",
   "metadata": {},
   "outputs": [
    {
     "name": "stdout",
     "output_type": "stream",
     "text": [
      "Uploading chapter_1200.m4a...\n",
      "Uploaded file ID: 107AH1Nq6pQ1vVPpTUtor2Zg1KuGVgFNI\n",
      "Moved chapter_1200.m4a to 'done/' folder.\n",
      "\n"
     ]
    }
   ],
   "source": [
    "import os\n",
    "import shutil\n",
    "from google.oauth2.credentials import Credentials\n",
    "from google_auth_oauthlib.flow import InstalledAppFlow\n",
    "from googleapiclient.discovery import build\n",
    "from googleapiclient.http import MediaFileUpload\n",
    "\n",
    "# If modifying scopes, delete the file token.json.\n",
    "SCOPES = ['https://www.googleapis.com/auth/drive.file']\n",
    "\n",
    "def upload_file_to_drive(filepath, filename=None, folder_id=None):\n",
    "    creds = None\n",
    "    if os.path.exists('token.json'):\n",
    "        creds = Credentials.from_authorized_user_file('token.json', SCOPES)\n",
    "\n",
    "    if not creds or not creds.valid:\n",
    "        if creds and creds.expired and creds.refresh_token:\n",
    "            creds.refresh(Request())\n",
    "        else:\n",
    "            flow = InstalledAppFlow.from_client_secrets_file(\n",
    "                'credentials.json', SCOPES)\n",
    "            creds = flow.run_local_server(port=0)\n",
    "        with open('token.json', 'w') as token:\n",
    "            token.write(creds.to_json())\n",
    "\n",
    "    service = build('drive', 'v3', credentials=creds)\n",
    "\n",
    "    file_metadata = {\n",
    "        'name': filename or os.path.basename(filepath),\n",
    "        'parents': [folder_id] if folder_id else []\n",
    "    }\n",
    "\n",
    "    media = MediaFileUpload(filepath, resumable=True)\n",
    "\n",
    "    try:\n",
    "        file = service.files().create(\n",
    "            body=file_metadata,\n",
    "            media_body=media,\n",
    "            fields='id'\n",
    "        ).execute()\n",
    "        print(f\"Uploaded file ID: {file.get('id')}\")\n",
    "    finally:\n",
    "        # Explicitly close the file handle\n",
    "        if media._fd:\n",
    "            media._fd.close()\n",
    "\n",
    "\n",
    "def upload_all_files_in_folder(local_folder_path, drive_folder_id):\n",
    "    done_folder_path = os.path.join(local_folder_path, 'done')\n",
    "    os.makedirs(done_folder_path, exist_ok=True)  # Create 'done' folder if it doesn't exist\n",
    "\n",
    "    for filename in os.listdir(local_folder_path):\n",
    "        file_path = os.path.join(local_folder_path, filename)\n",
    "\n",
    "        # Skip if it's a directory (including 'done' folder)\n",
    "        if not os.path.isfile(file_path):\n",
    "            continue\n",
    "\n",
    "        try:\n",
    "            print(f\"Uploading {filename}...\")\n",
    "            upload_file_to_drive(file_path, filename=filename, folder_id=drive_folder_id)\n",
    "            \n",
    "            # Move file to done/\n",
    "            shutil.move(file_path, os.path.join(done_folder_path, filename))\n",
    "            print(f\"Moved {filename} to 'done/' folder.\\n\")\n",
    "        except Exception as e:\n",
    "            print(f\"Error uploading {filename}: {e}\")\n",
    "\n",
    "\n",
    "upload_all_files_in_folder('chapters_m4a', '1wk9tIDqagqaGUAo-rhcFkllJZAmOkr7K')"
   ]
  }
 ],
 "metadata": {
  "kernelspec": {
   "display_name": ".venv",
   "language": "python",
   "name": "python3"
  },
  "language_info": {
   "codemirror_mode": {
    "name": "ipython",
    "version": 3
   },
   "file_extension": ".py",
   "mimetype": "text/x-python",
   "name": "python",
   "nbconvert_exporter": "python",
   "pygments_lexer": "ipython3",
   "version": "3.11.0"
  }
 },
 "nbformat": 4,
 "nbformat_minor": 5
}
