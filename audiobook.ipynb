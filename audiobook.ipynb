{
 "cells": [
  {
   "cell_type": "markdown",
   "id": "d37b8405",
   "metadata": {},
   "source": [
    "# eBook to Audio project"
   ]
  },
  {
   "cell_type": "markdown",
   "id": "6f0df9ca",
   "metadata": {},
   "source": [
    "### install libs"
   ]
  },
  {
   "cell_type": "code",
   "execution_count": 5,
   "id": "da542dd4",
   "metadata": {},
   "outputs": [
    {
     "name": "stdout",
     "output_type": "stream",
     "text": [
      "Requirement already satisfied: gTTS in .\\.venv\\lib\\site-packages (2.5.4)\n",
      "Requirement already satisfied: pydub in .\\.venv\\lib\\site-packages (0.25.1)\n",
      "Requirement already satisfied: ebooklib in .\\.venv\\lib\\site-packages (0.19)\n",
      "Collecting bs4\n",
      "  Downloading bs4-0.0.2-py2.py3-none-any.whl.metadata (411 bytes)\n",
      "Requirement already satisfied: requests<3,>=2.27 in .\\.venv\\lib\\site-packages (from gTTS) (2.32.4)\n",
      "Requirement already satisfied: click<8.2,>=7.1 in .\\.venv\\lib\\site-packages (from gTTS) (8.1.8)\n",
      "Requirement already satisfied: colorama in .\\.venv\\lib\\site-packages (from click<8.2,>=7.1->gTTS) (0.4.6)\n",
      "Requirement already satisfied: charset_normalizer<4,>=2 in .\\.venv\\lib\\site-packages (from requests<3,>=2.27->gTTS) (3.4.2)\n",
      "Requirement already satisfied: idna<4,>=2.5 in .\\.venv\\lib\\site-packages (from requests<3,>=2.27->gTTS) (3.10)\n",
      "Requirement already satisfied: urllib3<3,>=1.21.1 in .\\.venv\\lib\\site-packages (from requests<3,>=2.27->gTTS) (2.5.0)\n",
      "Requirement already satisfied: certifi>=2017.4.17 in .\\.venv\\lib\\site-packages (from requests<3,>=2.27->gTTS) (2025.7.9)\n",
      "Requirement already satisfied: lxml in .\\.venv\\lib\\site-packages (from ebooklib) (6.0.0)\n",
      "Requirement already satisfied: six in .\\.venv\\lib\\site-packages (from ebooklib) (1.17.0)\n",
      "Collecting beautifulsoup4 (from bs4)\n",
      "  Using cached beautifulsoup4-4.13.4-py3-none-any.whl.metadata (3.8 kB)\n",
      "Collecting soupsieve>1.2 (from beautifulsoup4->bs4)\n",
      "  Using cached soupsieve-2.7-py3-none-any.whl.metadata (4.6 kB)\n",
      "Requirement already satisfied: typing-extensions>=4.0.0 in .\\.venv\\lib\\site-packages (from beautifulsoup4->bs4) (4.14.1)\n",
      "Downloading bs4-0.0.2-py2.py3-none-any.whl (1.2 kB)\n",
      "Using cached beautifulsoup4-4.13.4-py3-none-any.whl (187 kB)\n",
      "Using cached soupsieve-2.7-py3-none-any.whl (36 kB)\n",
      "Installing collected packages: soupsieve, beautifulsoup4, bs4\n",
      "\n",
      "   ------------- -------------------------- 1/3 [beautifulsoup4]\n",
      "   ------------- -------------------------- 1/3 [beautifulsoup4]\n",
      "   ------------- -------------------------- 1/3 [beautifulsoup4]\n",
      "   ------------- -------------------------- 1/3 [beautifulsoup4]\n",
      "   ------------- -------------------------- 1/3 [beautifulsoup4]\n",
      "   ---------------------------------------- 3/3 [bs4]\n",
      "\n",
      "Successfully installed beautifulsoup4-4.13.4 bs4-0.0.2 soupsieve-2.7\n",
      "Note: you may need to restart the kernel to use updated packages.\n"
     ]
    }
   ],
   "source": [
    "pip install gTTS pydub ebooklib bs4"
   ]
  },
  {
   "cell_type": "markdown",
   "id": "0d3fe6fb",
   "metadata": {},
   "source": [
    "## extract chapters"
   ]
  },
  {
   "cell_type": "code",
   "execution_count": null,
   "id": "cd99db36",
   "metadata": {},
   "outputs": [
    {
     "name": "stdout",
     "output_type": "stream",
     "text": [
      "Chapter 702: Moving on\n",
      "\n",
      "\n",
      "\n",
      "When leaving the Parasites to their own devices, there was the chance that they could use this time to run away. To escape the planet, however, where would they even go? Who would they run off to? Wevil, had promised Quinn that he would follow him from now onwards, and to leave everything to him and Hana.Even though Tony was the vice leader, the faction members actually had the most respect for these two. Whenever something had gone wrong, they would be the ones that tried to reason with Mantis, to give them part of the antidote earlier than needed. While Tony would be the one who was Mantis's yes men.Saying Yes to every suggestion and everything he did.\"Alright everyone, it's time for you all to decide!\" Wevil shouted from on top of the platform. The faction members were recovering and they had gained enough strength to move again. But they were unaware of the bombshell that Wevil was about to drop on them all. \"You have a choice….\"*****Heading back, Quinn and Sil had no trouble and they had arrived at the shelter sooner than they thought. A message had been sent back ahead of time, and Peter had responded saying that Dennis was acting strangely, but that was a while ago.The two of them went through the teleporter and were onboard the Cursed ship, running straight for the command centre, but before they could even reach there. Peter was standing in the main large open hall.\"Quinn, did you manage to solve it?\" Peter asked.\"I didn't, but Sil can now remove the poison. Where are the others?\" Quinn asked.Peter led the way but didn't say much, he didn't know what to say to Quinn to prepare him for what had happened while he was on his way. If anything Quinn seemed to be in a happy mood that he had actually found a way to save the others.Then entering the training room, Quinn could see many people in the room. It reeked of blood, but he expected this. As time went on, he imagined more of them were throwing up on the ground like the others. Sam was present, along with Paul and Kazz. The two of them were standing over Dennis, Nate and Fex.They looked like they had been beaten a few times, but were at least still alive. Sil seeing them rushed over quickly and got to work removing the poison.Scanning the room more, he saw Linda, away from them all. She was sitting down on the floor with her head on her knees. Quinn had seen Sil do this a number of times when he was upset. However, what caught his attention more than that, was two things.First, the sound of crying coming from Linda, she was uncontrollably sobbing and even now tears were falling to the floor. The second thing was what was in front of her. A sheet had been placed over something and right at the bottom, a pair of boots could be seen sticking out from them.\"No, no I brought back Sil, we can get rid of the poison,\" Quinn said walking towards her. Seeing Linda, and the body in front of her, it didn't take long for him to put the two things together.When she heard someone coming closer, she looked up to see Quinn through her blurry vision.\"Quinn…\" She cried. \"Blip, you can save him… Right? Please tell me you can save him!\" She continued to sob.It was her last hope, hoping that Kazz was wrong about what she had said. Kneeling down on his knees, Quinn removed the sheet to have a look underneath it, a bloody mess known as Blip. He closed his eyes and placed the sheet back over.He knew Blip was dead.\"I'm sorry… I'm sorry I wasn't here, I can't bring back the dead.\" Quinn said softly.Placing her head back down, she continued to sob, Quinn went to approach her, hoping to perhaps comfort her.\"Don't, please Quinn, just go away. I know it's not your fault, or Fex's but I just can't look at you right now, not for a while.\" Linda said.Quinn understood and decided to leave her be. She was such a strong woman and it broke his heart to see her like this, but then he was starting to wonder what happened? Blip wasn't infected by the poison in the first place.Thinking back at the image of Blip in his mind, there was something he could see on the neck. It was two bite marks. Immediately, Quinn's mind wanted to blame Kazz, and walking back towards them a strange energy was overflowing from him. He had enough, if Kazz was behind this, then he was unsure if he could hold himself back this time, even his gauntlets were already covered in a strange shadow.\"Quinn, it wasn't Kazz,\" Paul said, knowing the look in his eyes.Hearing this, he started to think about what Linda had said, about how she said she didn't blame him or 'Fex' for this. The anger started to calm down, and the shadow disappeared.\"But how?\"Everything was explained to Quinn about what had happened while they were away. He was kicking himself in the foot wondering, if he had stayed behind, if the outcome would have been different.However, Sam, Nate and Dennis all tried their best to comfort him, especially Dennis who was more thankful than even before to Quinn. He knew that his life was hanging on the line, and if Quin hadn't left to deal with the Parasites as quickly as he did, there was a good chance that he could be dead as well.Eventually, the news was released to everyone on the Cursed ship. A day of mourning had been given to Blip. It came as a shock, especially since a lot of members of the Crows had joined because of him. What surprised everyone even more, was Linda had yet to be seen at the morning event.They were expecting some type of speech from her, but nothing had occurred. Blip's death was blamed on the Parasites, and with that, the news of Quinn attacking them was also spread. They weren't informed of how he did so alone, but they couldn't have imagined a large group having acted.Otherwise, more faction members would have known about it. To them, the order of events were jumbled. They had thought Blip had been killed by the Parasites some ways and then Quinn went to deal with them, which just proved to all of them how much Quinn cared about their lives.He thought that maybe people would leave after such a thing, but they had all decided to stay. Showing him more respect compared to before.Wevil had kept to his promise. He was unable to get in contact with Daisy, as they were dealing with their own things, but he left them a message blaming the event on the Parasites.They decided to stick to the story that was spread around the Cursed faction. After the duel, Mantis had attacked Blip, and Quinn retaliated. Most of the Parasite members agreed to join under the Cursed faction, they were very thankful after the poison was removed like Wevil thought they would be. The members explained the situation to their families as they were unaware of what was really going on in the Parasites. The shelter they had could remain and now was in the process of being built permanently.They wanted a person to oversee this matter, and in the end, Linda was the one who volunteered. She had recovered a little from her brother's death, trying to act normal with everyone, but there was an odd feeling around her whenever they would converse.When she volunteered it came as a surprise, and they thought it might be best to give her a task like so, to get her mind off it.When going through the Parasite's belongings, they found that Mantis had written his own personal Poison ability book. It was given to Paul to look over and he had found that it had cultivation techniques that would teach someone to get their ability up to level eight. It was the thing he needed most right now.It was a tough time for the Cursed faction, but Paul reminded them that many more tough times were probably to come in the future, even though big things were happening they couldn't just take a break. They needed to proceed with their plan. The plan that would place them in prime position to become part of the big three. A powerhouse of the human race.In those two days, wiping the sweat from his head, Alex looked at the last piece of equipment on his table.'Finally the emperor tier equipment..is done.'****For MVS artwork and updates follow on Instagram and Facebook: jksmanga\n"
     ]
    }
   ],
   "source": []
  },
  {
   "cell_type": "code",
   "execution_count": null,
   "id": "ed0317b6",
   "metadata": {},
   "outputs": [
    {
     "name": "stdout",
     "output_type": "stream",
     "text": [
      "Chapter 702: Moving on\n",
      "\n",
      "\n",
      "\n",
      "When leaving the Parasites to their own devices, there was the chance that they could use this time to run away. To escape the planet, however, where would they even go? Who would they run off to? Wevil, had promised Quinn that he would follow him from now onwards, and to leave everything to him and Hana.Even though Tony was the vice leader, the faction members actually had the most respect for these two. Whenever something had gone wrong, they would be the ones that tried to reason with Mantis, to give them part of the antidote earlier than needed. While Tony would be the one who was Mantis's yes men.Saying Yes to every suggestion and everything he did.\"Alright everyone, it's time for you all to decide!\" Wevil shouted from on top of the platform. The faction members were recovering and they had gained enough strength to move again. But they were unaware of the bombshell that Wevil was about to drop on them all. \"You have a choice….\"*****Heading back, Quinn and Sil had no trouble and they had arrived at the shelter sooner than they thought. A message had been sent back ahead of time, and Peter had responded saying that Dennis was acting strangely, but that was a while ago.The two of them went through the teleporter and were onboard the Cursed ship, running straight for the command centre, but before they could even reach there. Peter was standing in the main large open hall.\"Quinn, did you manage to solve it?\" Peter asked.\"I didn't, but Sil can now remove the poison. Where are the others?\" Quinn asked.Peter led the way but didn't say much, he didn't know what to say to Quinn to prepare him for what had happened while he was on his way. If anything Quinn seemed to be in a happy mood that he had actually found a way to save the others.Then entering the training room, Quinn could see many people in the room. It reeked of blood, but he expected this. As time went on, he imagined more of them were throwing up on the ground like the others. Sam was present, along with Paul and Kazz. The two of them were standing over Dennis, Nate and Fex.They looked like they had been beaten a few times, but were at least still alive. Sil seeing them rushed over quickly and got to work removing the poison.Scanning the room more, he saw Linda, away from them all. She was sitting down on the floor with her head on her knees. Quinn had seen Sil do this a number of times when he was upset. However, what caught his attention more than that, was two things.First, the sound of crying coming from Linda, she was uncontrollably sobbing and even now tears were falling to the floor. The second thing was what was in front of her. A sheet had been placed over something and right at the bottom, a pair of boots could be seen sticking out from them.\"No, no I brought back Sil, we can get rid of the poison,\" Quinn said walking towards her. Seeing Linda, and the body in front of her, it didn't take long for him to put the two things together.When she heard someone coming closer, she looked up to see Quinn through her blurry vision.\"Quinn…\" She cried. \"Blip, you can save him… Right? Please tell me you can save him!\" She continued to sob.It was her last hope, hoping that Kazz was wrong about what she had said. Kneeling down on his knees, Quinn removed the sheet to have a look underneath it, a bloody mess known as Blip. He closed his eyes and placed the sheet back over.He knew Blip was dead.\"I'm sorry… I'm sorry I wasn't here, I can't bring back the dead.\" Quinn said softly.Placing her head back down, she continued to sob, Quinn went to approach her, hoping to perhaps comfort her.\"Don't, please Quinn, just go away. I know it's not your fault, or Fex's but I just can't look at you right now, not for a while.\" Linda said.Quinn understood and decided to leave her be. She was such a strong woman and it broke his heart to see her like this, but then he was starting to wonder what happened? Blip wasn't infected by the poison in the first place.Thinking back at the image of Blip in his mind, there was something he could see on the neck. It was two bite marks. Immediately, Quinn's mind wanted to blame Kazz, and walking back towards them a strange energy was overflowing from him. He had enough, if Kazz was behind this, then he was unsure if he could hold himself back this time, even his gauntlets were already covered in a strange shadow.\"Quinn, it wasn't Kazz,\" Paul said, knowing the look in his eyes.Hearing this, he started to think about what Linda had said, about how she said she didn't blame him or 'Fex' for this. The anger started to calm down, and the shadow disappeared.\"But how?\"Everything was explained to Quinn about what had happened while they were away. He was kicking himself in the foot wondering, if he had stayed behind, if the outcome would have been different.However, Sam, Nate and Dennis all tried their best to comfort him, especially Dennis who was more thankful than even before to Quinn. He knew that his life was hanging on the line, and if Quin hadn't left to deal with the Parasites as quickly as he did, there was a good chance that he could be dead as well.Eventually, the news was released to everyone on the Cursed ship. A day of mourning had been given to Blip. It came as a shock, especially since a lot of members of the Crows had joined because of him. What surprised everyone even more, was Linda had yet to be seen at the morning event.They were expecting some type of speech from her, but nothing had occurred. Blip's death was blamed on the Parasites, and with that, the news of Quinn attacking them was also spread. They weren't informed of how he did so alone, but they couldn't have imagined a large group having acted.Otherwise, more faction members would have known about it. To them, the order of events were jumbled. They had thought Blip had been killed by the Parasites some ways and then Quinn went to deal with them, which just proved to all of them how much Quinn cared about their lives.He thought that maybe people would leave after such a thing, but they had all decided to stay. Showing him more respect compared to before.Wevil had kept to his promise. He was unable to get in contact with Daisy, as they were dealing with their own things, but he left them a message blaming the event on the Parasites.They decided to stick to the story that was spread around the Cursed faction. After the duel, Mantis had attacked Blip, and Quinn retaliated. Most of the Parasite members agreed to join under the Cursed faction, they were very thankful after the poison was removed like Wevil thought they would be. The members explained the situation to their families as they were unaware of what was really going on in the Parasites. The shelter they had could remain and now was in the process of being built permanently.They wanted a person to oversee this matter, and in the end, Linda was the one who volunteered. She had recovered a little from her brother's death, trying to act normal with everyone, but there was an odd feeling around her whenever they would converse.When she volunteered it came as a surprise, and they thought it might be best to give her a task like so, to get her mind off it.When going through the Parasite's belongings, they found that Mantis had written his own personal Poison ability book. It was given to Paul to look over and he had found that it had cultivation techniques that would teach someone to get their ability up to level eight. It was the thing he needed most right now.It was a tough time for the Cursed faction, but Paul reminded them that many more tough times were probably to come in the future, even though big things were happening they couldn't just take a break. They needed to proceed with their plan. The plan that would place them in prime position to become part of the big three. A powerhouse of the human race.In those two days, wiping the sweat from his head, Alex looked at the last piece of equipment on his table.'Finally the emperor tier equipment..is done.'****For MVS artwork and updates follow on Instagram and Facebook: jksmanga\n"
     ]
    }
   ],
   "source": [
    "import re\n",
    "from ebooklib import epub, ITEM_DOCUMENT\n",
    "from bs4 import BeautifulSoup\n",
    "\n",
    "def clean_text_for_tts(text):\n",
    "    # Ensure spacing after punctuation\n",
    "    text = re.sub(r'([.?!])(?=\\w)', r'\\1 ', text)\n",
    "\n",
    "    # Add longer pause for sentence ends\n",
    "    text = text.replace('. ', '. ... ')\n",
    "    text = text.replace('? ', '? ... ')\n",
    "    text = text.replace('! ', '! ... ')\n",
    "\n",
    "    # Fix smashed dialogue punctuation\n",
    "    text = re.sub(r'(\\.|\\!|\\?)(\")', r'\\1 \\2', text)\n",
    "\n",
    "    # Add pause after newlines (e.g., between paragraphs)\n",
    "    text = re.sub(r'\\n+', '\\n... \\n', text)\n",
    "\n",
    "    return text.strip()\n",
    "\n",
    "def extract_actual_chapters(epub_path):\n",
    "    book = epub.read_epub(epub_path)\n",
    "    chapters = []\n",
    "\n",
    "    for idx, item in enumerate(book.get_items(), start=1):\n",
    "        if item.get_type() != ITEM_DOCUMENT:\n",
    "            continue\n",
    "\n",
    "        soup = BeautifulSoup(item.get_content(), 'html.parser')\n",
    "        text = soup.get_text().strip()\n",
    "\n",
    "        if idx == 1:\n",
    "            continue  # Skip full dump\n",
    "        if idx == 2 and \"Chapter 701\" in text:\n",
    "            parts = re.split(r\"(Chapter\\s+\\d+[:\\-]?\\s+)\", text)\n",
    "            for i in range(1, len(parts) - 1, 2):\n",
    "                title = parts[i].strip()\n",
    "                body = parts[i + 1].strip()\n",
    "                if len(body) > 30:\n",
    "                    full = f\"{title}\\n\\n{body}\"\n",
    "                    cleaned = clean_text_for_tts(full)\n",
    "                    chapters.append(cleaned)\n",
    "            continue\n",
    "\n",
    "        match = re.search(r\"(Chapter\\s+\\d+[:\\-]?\\s+.*)\", text, re.IGNORECASE)\n",
    "        if match:\n",
    "            chapter_start = match.start()\n",
    "            chapter_text = text[chapter_start:].strip()\n",
    "            if len(chapter_text) > 50:\n",
    "                cleaned = clean_text_for_tts(chapter_text)\n",
    "                chapters.append(cleaned)\n",
    "\n",
    "    return chapters\n"
   ]
  },
  {
   "cell_type": "code",
   "execution_count": null,
   "id": "b4c82841",
   "metadata": {},
   "outputs": [],
   "source": [
    "from gtts import gTTS\n",
    "from pydub import AudioSegment\n",
    "import os\n",
    "\n",
    "def save_chapters_to_m4a(chapters, output_dir=\"chapters_m4a\", max_chapters=10, bitrate=\"64k\"):\n",
    "    os.makedirs(output_dir, exist_ok=True)\n",
    "\n",
    "    for i, chapter in enumerate(chapters[:max_chapters], start=1):\n",
    "        print(f\"🔊 Converting Chapter {i} to M4A...\")\n",
    "        try:\n",
    "            # Step 1: Generate temp MP3\n",
    "            temp_mp3 = f\"temp_chapter_{i}.mp3\"\n",
    "            tts = gTTS(text=chapter, lang='en')\n",
    "            tts.save(temp_mp3)\n",
    "\n",
    "            # Step 2: Convert to M4A (AAC format)\n",
    "            audio = AudioSegment.from_mp3(temp_mp3)\n",
    "            m4a_path = os.path.join(output_dir, f\"chapter_{i}.m4a\")\n",
    "            audio.export(m4a_path, format=\"ipod\", bitrate=bitrate)\n",
    "\n",
    "            os.remove(temp_mp3)  # Clean up\n",
    "            print(f\"✅ Saved: {m4a_path}\")\n",
    "\n",
    "        except Exception as e:\n",
    "            print(f\"❌ Error in Chapter {i}: {e}\")"
   ]
  },
  {
   "cell_type": "code",
   "execution_count": null,
   "id": "43344380",
   "metadata": {},
   "outputs": [],
   "source": [
    "chapters = extract_actual_chapters(\"audio_books/9kafe.com-my-vampire-system-c701-1400.epub\")\n",
    "print(chapters[2])  # Should print Chapter 703 with body\n",
    "\n",
    "save_chapters_to_m4a(chapters, max_chapters=1)"
   ]
  }
 ],
 "metadata": {
  "kernelspec": {
   "display_name": ".venv",
   "language": "python",
   "name": "python3"
  },
  "language_info": {
   "codemirror_mode": {
    "name": "ipython",
    "version": 3
   },
   "file_extension": ".py",
   "mimetype": "text/x-python",
   "name": "python",
   "nbconvert_exporter": "python",
   "pygments_lexer": "ipython3",
   "version": "3.11.0"
  }
 },
 "nbformat": 4,
 "nbformat_minor": 5
}
