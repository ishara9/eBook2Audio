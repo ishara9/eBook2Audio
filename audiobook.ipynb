{
 "cells": [
  {
   "cell_type": "markdown",
   "id": "d37b8405",
   "metadata": {},
   "source": [
    "# eBook to Audio project"
   ]
  },
  {
   "cell_type": "markdown",
   "id": "6f0df9ca",
   "metadata": {},
   "source": [
    "### install libs"
   ]
  },
  {
   "cell_type": "code",
   "execution_count": 6,
   "id": "da542dd4",
   "metadata": {},
   "outputs": [
    {
     "name": "stdout",
     "output_type": "stream",
     "text": [
      "Requirement already satisfied: gTTS in .\\.venv\\lib\\site-packages (2.5.4)\n",
      "Requirement already satisfied: pydub in .\\.venv\\lib\\site-packages (0.25.1)\n",
      "Requirement already satisfied: ebooklib in .\\.venv\\lib\\site-packages (0.19)\n",
      "Requirement already satisfied: bs4 in .\\.venv\\lib\\site-packages (0.0.2)\n",
      "Requirement already satisfied: edge-tts in .\\.venv\\lib\\site-packages (7.0.2)\n",
      "Requirement already satisfied: requests<3,>=2.27 in .\\.venv\\lib\\site-packages (from gTTS) (2.32.4)\n",
      "Requirement already satisfied: click<8.2,>=7.1 in .\\.venv\\lib\\site-packages (from gTTS) (8.1.8)\n",
      "Requirement already satisfied: colorama in .\\.venv\\lib\\site-packages (from click<8.2,>=7.1->gTTS) (0.4.6)\n",
      "Requirement already satisfied: charset_normalizer<4,>=2 in .\\.venv\\lib\\site-packages (from requests<3,>=2.27->gTTS) (3.4.2)\n",
      "Requirement already satisfied: idna<4,>=2.5 in .\\.venv\\lib\\site-packages (from requests<3,>=2.27->gTTS) (3.10)\n",
      "Requirement already satisfied: urllib3<3,>=1.21.1 in .\\.venv\\lib\\site-packages (from requests<3,>=2.27->gTTS) (2.5.0)\n",
      "Requirement already satisfied: certifi>=2017.4.17 in .\\.venv\\lib\\site-packages (from requests<3,>=2.27->gTTS) (2025.7.14)\n",
      "Requirement already satisfied: lxml in .\\.venv\\lib\\site-packages (from ebooklib) (6.0.0)\n",
      "Requirement already satisfied: six in .\\.venv\\lib\\site-packages (from ebooklib) (1.17.0)\n",
      "Requirement already satisfied: beautifulsoup4 in .\\.venv\\lib\\site-packages (from bs4) (4.13.4)\n",
      "Requirement already satisfied: aiohttp<4.0.0,>=3.8.0 in .\\.venv\\lib\\site-packages (from edge-tts) (3.12.14)\n",
      "Requirement already satisfied: srt<4.0.0,>=3.4.1 in .\\.venv\\lib\\site-packages (from edge-tts) (3.5.3)\n",
      "Requirement already satisfied: tabulate<1.0.0,>=0.4.4 in .\\.venv\\lib\\site-packages (from edge-tts) (0.9.0)\n",
      "Requirement already satisfied: typing-extensions<5.0.0,>=4.1.0 in .\\.venv\\lib\\site-packages (from edge-tts) (4.14.1)\n",
      "Requirement already satisfied: aiohappyeyeballs>=2.5.0 in .\\.venv\\lib\\site-packages (from aiohttp<4.0.0,>=3.8.0->edge-tts) (2.6.1)\n",
      "Requirement already satisfied: aiosignal>=1.4.0 in .\\.venv\\lib\\site-packages (from aiohttp<4.0.0,>=3.8.0->edge-tts) (1.4.0)\n",
      "Requirement already satisfied: attrs>=17.3.0 in .\\.venv\\lib\\site-packages (from aiohttp<4.0.0,>=3.8.0->edge-tts) (25.3.0)\n",
      "Requirement already satisfied: frozenlist>=1.1.1 in .\\.venv\\lib\\site-packages (from aiohttp<4.0.0,>=3.8.0->edge-tts) (1.7.0)\n",
      "Requirement already satisfied: multidict<7.0,>=4.5 in .\\.venv\\lib\\site-packages (from aiohttp<4.0.0,>=3.8.0->edge-tts) (6.6.3)\n",
      "Requirement already satisfied: propcache>=0.2.0 in .\\.venv\\lib\\site-packages (from aiohttp<4.0.0,>=3.8.0->edge-tts) (0.3.2)\n",
      "Requirement already satisfied: yarl<2.0,>=1.17.0 in .\\.venv\\lib\\site-packages (from aiohttp<4.0.0,>=3.8.0->edge-tts) (1.20.1)\n",
      "Requirement already satisfied: soupsieve>1.2 in .\\.venv\\lib\\site-packages (from beautifulsoup4->bs4) (2.7)\n",
      "Note: you may need to restart the kernel to use updated packages.\n"
     ]
    }
   ],
   "source": [
    "pip install gTTS pydub ebooklib bs4 edge-tts"
   ]
  },
  {
   "cell_type": "markdown",
   "id": "0d3fe6fb",
   "metadata": {},
   "source": [
    "## extract chapters"
   ]
  },
  {
   "cell_type": "code",
   "execution_count": 2,
   "id": "ed0317b6",
   "metadata": {},
   "outputs": [],
   "source": [
    "import re\n",
    "from ebooklib import epub, ITEM_DOCUMENT\n",
    "from bs4 import BeautifulSoup\n",
    "\n",
    "def clean_text_for_tts(text):\n",
    "    # 1. Decode escaped characters like \\n, \\'\n",
    "    text = text.encode(\"utf-8\").decode(\"unicode_escape\")\n",
    "\n",
    "    # 2. Ensure spacing after sentence-ending punctuation (before any letter or quote)\n",
    "    text = re.sub(r'([.?!])(?=[\"A-Za-z])', r'\\1 ', text)\n",
    "\n",
    "    # 3. Add longer pause for sentence ends\n",
    "    text = re.sub(r'\\.\\s+', '. ... ', text)\n",
    "    text = re.sub(r'\\?\\s+', '? ... ', text)\n",
    "    text = re.sub(r'!\\s+', '! ... ', text)\n",
    "\n",
    "    # 4. Fix smashed dialogue punctuation (e.g., ‘.”Word’ → ‘. ”Word’)\n",
    "    text = re.sub(r'([.?!])(\")', r'\\1 \\2', text)\n",
    "\n",
    "    # 5. Add pause after newlines\n",
    "    text = re.sub(r'\\n+', '\\n... \\n', text)\n",
    "\n",
    "    # 6. Remove leftover backslashes\n",
    "    text = text.replace(\"\\\\\", \"\")\n",
    "\n",
    "    return text.strip()\n",
    "\n",
    "def extract_actual_chapters(epub_path):\n",
    "    book = epub.read_epub(epub_path)\n",
    "    chapters = []\n",
    "\n",
    "    for idx, item in enumerate(book.get_items(), start=1):\n",
    "        if item.get_type() != ITEM_DOCUMENT:\n",
    "            continue\n",
    "\n",
    "        soup = BeautifulSoup(item.get_content(), 'html.parser')\n",
    "        text = soup.get_text().strip()\n",
    "\n",
    "        if idx == 1:\n",
    "            continue  # Skip full dump\n",
    "        if idx == 2 and \"Chapter 701\" in text:\n",
    "            parts = re.split(r\"(Chapter\\s+\\d+[:\\-]?\\s+)\", text)\n",
    "            for i in range(1, len(parts) - 1, 2):\n",
    "                title = parts[i].strip()\n",
    "                body = parts[i + 1].strip()\n",
    "                if len(body) > 30:\n",
    "                    full = f\"{title}\\n\\n{body}\"\n",
    "                    cleaned = clean_text_for_tts(full)\n",
    "                    chapters.append(cleaned)\n",
    "            continue\n",
    "\n",
    "        match = re.search(r\"(Chapter\\s+\\d+[:\\-]?\\s+.*)\", text, re.IGNORECASE)\n",
    "        if match:\n",
    "            chapter_start = match.start()\n",
    "            chapter_text = text[chapter_start:].strip()\n",
    "            if len(chapter_text) > 50:\n",
    "                cleaned = clean_text_for_tts(chapter_text)\n",
    "                chapters.append(cleaned)\n",
    "\n",
    "    return chapters\n"
   ]
  },
  {
   "cell_type": "markdown",
   "id": "1d60b6e7",
   "metadata": {},
   "source": [
    "## Save Audio"
   ]
  },
  {
   "cell_type": "code",
   "execution_count": 3,
   "id": "fcfc10fc",
   "metadata": {},
   "outputs": [],
   "source": [
    "import os\n",
    "import edge_tts\n",
    "import asyncio\n",
    "\n",
    "# en-US-JennyNeural is nice soft, but slower to build 15 secs\n",
    "# en-US-AriaNeural is more robotic tone, but faster to build 5 secs\n",
    "async def save_chapters_to_m4a(chapters, output_dir=\"chapters_m4a\", max_chapters=10, start_index=0, voice=\"en-US-JennyNeural\"):\n",
    "    os.makedirs(output_dir, exist_ok=True)\n",
    "\n",
    "    end_index = start_index + max_chapters\n",
    "    chapters_to_save = chapters[start_index:end_index]\n",
    "\n",
    "    print(f\"\\n🚀 Starting conversion from Chapter {start_index + 1} to Chapter {min(end_index, len(chapters))}\")\n",
    "    print(f\"📚 Total Chapters to Save: {len(chapters_to_save)}\\n\")\n",
    "\n",
    "    for i, chapter in enumerate(chapters_to_save, start=start_index + 1):\n",
    "        try:\n",
    "            chapter_title_line = next((line for line in chapter.splitlines() if line.lower().startswith(\"chapter\")), f\"Chapter_{i}\")\n",
    "            chapter_num = chapter_title_line.split()[1].strip(\":\")\n",
    "            file_path = os.path.join(output_dir, f\"chapter_{chapter_num}.m4a\")\n",
    "\n",
    "            print(f\"🔊 [Chapter {i}] Preparing: {chapter_title_line}\")\n",
    "            print(f\"📄 Characters: {len(chapter)}\")\n",
    "\n",
    "            communicate = edge_tts.Communicate(text=chapter, voice=voice)\n",
    "            await communicate.save(file_path)\n",
    "\n",
    "            file_size_kb = os.path.getsize(file_path) // 1024\n",
    "            print(f\"✅ Saved: {file_path} ({file_size_kb} KB)\\n\")\n",
    "\n",
    "        except Exception as e:\n",
    "            print(f\"❌ Error in Chapter {i}: {e}\\n\")"
   ]
  },
  {
   "cell_type": "code",
   "execution_count": null,
   "id": "43344380",
   "metadata": {},
   "outputs": [
    {
     "name": "stdout",
     "output_type": "stream",
     "text": [
      "Chapter 702: Moving on\n",
      "... \n",
      "When leaving the Parasites to their own devices, there was the chance that they could use this time to run away. ... To escape the planet, however, where would they even go? ... Who would they run off to? ... Wevil, had promised Quinn that he would follow him from now onwards, and to leave everything to him and Hana. ... Even though Tony was the vice leader, the faction members actually had the most respect for these two. ... Whenever something had gone wrong, they would be the ones that tried to reason with Mantis, to give them part of the antidote earlier than needed. ... While Tony would be the one who was Mantis's yes men. ... Saying Yes to every suggestion and everything he did. ... \"Alright everyone, it's time for you all to decide! ... \" Wevil shouted from on top of the platform. ... The faction members were recovering and they had gained enough strength to move again. ... But they were unaware of the bombshell that Wevil was about to drop on them all. ... \"You have a choiceâ¦. ... \"*****Heading back, Quinn and Sil had no trouble and they had arrived at the shelter sooner than they thought. ... A message had been sent back ahead of time, and Peter had responded saying that Dennis was acting strangely, but that was a while ago. ... The two of them went through the teleporter and were onboard the Cursed ship, running straight for the command centre, but before they could even reach there. ... Peter was standing in the main large open hall. ... \"Quinn, did you manage to solve it? ... \" Peter asked. ... \"I didn't, but Sil can now remove the poison. ... Where are the others? ... \" Quinn asked. ... Peter led the way but didn't say much, he didn't know what to say to Quinn to prepare him for what had happened while he was on his way. ... If anything Quinn seemed to be in a happy mood that he had actually found a way to save the others. ... Then entering the training room, Quinn could see many people in the room. ... It reeked of blood, but he expected this. ... As time went on, he imagined more of them were throwing up on the ground like the others. ... Sam was present, along with Paul and Kazz. ... The two of them were standing over Dennis, Nate and Fex. ... They looked like they had been beaten a few times, but were at least still alive. ... Sil seeing them rushed over quickly and got to work removing the poison. ... Scanning the room more, he saw Linda, away from them all. ... She was sitting down on the floor with her head on her knees. ... Quinn had seen Sil do this a number of times when he was upset. ... However, what caught his attention more than that, was two things. ... First, the sound of crying coming from Linda, she was uncontrollably sobbing and even now tears were falling to the floor. ... The second thing was what was in front of her. ... A sheet had been placed over something and right at the bottom, a pair of boots could be seen sticking out from them. ... \"No, no I brought back Sil, we can get rid of the poison,\" Quinn said walking towards her. ... Seeing Linda, and the body in front of her, it didn't take long for him to put the two things together. ... When she heard someone coming closer, she looked up to see Quinn through her blurry vision. ... \"Quinnâ¦\" She cried. ... \"Blip, you can save himâ¦ Right? ... Please tell me you can save him! ... \" She continued to sob. ... It was her last hope, hoping that Kazz was wrong about what she had said. ... Kneeling down on his knees, Quinn removed the sheet to have a look underneath it, a bloody mess known as Blip. ... He closed his eyes and placed the sheet back over. ... He knew Blip was dead. ... \"I'm sorryâ¦ I'm sorry I wasn't here, I can't bring back the dead. ... \" Quinn said softly. ... Placing her head back down, she continued to sob, Quinn went to approach her, hoping to perhaps comfort her. ... \"Don't, please Quinn, just go away. ... I know it's not your fault, or Fex's but I just can't look at you right now, not for a while. ... \" Linda said. ... Quinn understood and decided to leave her be. ... She was such a strong woman and it broke his heart to see her like this, but then he was starting to wonder what happened? ... Blip wasn't infected by the poison in the first place. ... Thinking back at the image of Blip in his mind, there was something he could see on the neck. ... It was two bite marks. ... Immediately, Quinn's mind wanted to blame Kazz, and walking back towards them a strange energy was overflowing from him. ... He had enough, if Kazz was behind this, then he was unsure if he could hold himself back this time, even his gauntlets were already covered in a strange shadow. ... \"Quinn, it wasn't Kazz,\" Paul said, knowing the look in his eyes. ... Hearing this, he started to think about what Linda had said, about how she said she didn't blame him or 'Fex' for this. ... The anger started to calm down, and the shadow disappeared. ... \"But how? ... \"Everything was explained to Quinn about what had happened while they were away. ... He was kicking himself in the foot wondering, if he had stayed behind, if the outcome would have been different. ... However, Sam, Nate and Dennis all tried their best to comfort him, especially Dennis who was more thankful than even before to Quinn. ... He knew that his life was hanging on the line, and if Quin hadn't left to deal with the Parasites as quickly as he did, there was a good chance that he could be dead as well. ... Eventually, the news was released to everyone on the Cursed ship. ... A day of mourning had been given to Blip. ... It came as a shock, especially since a lot of members of the Crows had joined because of him. ... What surprised everyone even more, was Linda had yet to be seen at the morning event. ... They were expecting some type of speech from her, but nothing had occurred. ... Blip's death was blamed on the Parasites, and with that, the news of Quinn attacking them was also spread. ... They weren't informed of how he did so alone, but they couldn't have imagined a large group having acted. ... Otherwise, more faction members would have known about it. ... To them, the order of events were jumbled. ... They had thought Blip had been killed by the Parasites some ways and then Quinn went to deal with them, which just proved to all of them how much Quinn cared about their lives. ... He thought that maybe people would leave after such a thing, but they had all decided to stay. ... Showing him more respect compared to before. ... Wevil had kept to his promise. ... He was unable to get in contact with Daisy, as they were dealing with their own things, but he left them a message blaming the event on the Parasites. ... They decided to stick to the story that was spread around the Cursed faction. ... After the duel, Mantis had attacked Blip, and Quinn retaliated. ... Most of the Parasite members agreed to join under the Cursed faction, they were very thankful after the poison was removed like Wevil thought they would be. ... The members explained the situation to their families as they were unaware of what was really going on in the Parasites. ... The shelter they had could remain and now was in the process of being built permanently. ... They wanted a person to oversee this matter, and in the end, Linda was the one who volunteered. ... She had recovered a little from her brother's death, trying to act normal with everyone, but there was an odd feeling around her whenever they would converse. ... When she volunteered it came as a surprise, and they thought it might be best to give her a task like so, to get her mind off it. ... When going through the Parasite's belongings, they found that Mantis had written his own personal Poison ability book. ... It was given to Paul to look over and he had found that it had cultivation techniques that would teach someone to get their ability up to level eight. ... It was the thing he needed most right now. ... It was a tough time for the Cursed faction, but Paul reminded them that many more tough times were probably to come in the future, even though big things were happening they couldn't just take a break. ... They needed to proceed with their plan. ... The plan that would place them in prime position to become part of the big three. ... A powerhouse of the human race. ... In those two days, wiping the sweat from his head, Alex looked at the last piece of equipment on his table.'Finally the emperor tier equipment.. ... is done.'****For MVS artwork and updates follow on Instagram and Facebook: jksmanga\n",
      "\n",
      "🚀 Starting conversion from Chapter 391 to Chapter 400\n",
      "📚 Total Chapters to Save: 10\n",
      "\n",
      "🔊 [Chapter 391] Preparing: Chapter 1090: A Special Power\n",
      "📄 Characters: 10455\n",
      "✅ Saved: chapters_m4a\\chapter_1090.m4a (3515 KB)\n",
      "\n",
      "🔊 [Chapter 392] Preparing: Chapter 1091: A struggle Within\n",
      "📄 Characters: 9476\n",
      "✅ Saved: chapters_m4a\\chapter_1091.m4a (3244 KB)\n",
      "\n",
      "🔊 [Chapter 393] Preparing: Chapter 1092: The secret of the red power\n",
      "📄 Characters: 8645\n",
      "✅ Saved: chapters_m4a\\chapter_1092.m4a (2830 KB)\n",
      "\n",
      "🔊 [Chapter 394] Preparing: Chapter 1093: Falling blood\n",
      "📄 Characters: 9227\n",
      "✅ Saved: chapters_m4a\\chapter_1093.m4a (3112 KB)\n",
      "\n",
      "🔊 [Chapter 395] Preparing: Chapter 1094: Admitting the truth\n",
      "📄 Characters: 9302\n",
      "✅ Saved: chapters_m4a\\chapter_1094.m4a (3120 KB)\n",
      "\n",
      "🔊 [Chapter 396] Preparing: Chapter 1095: Call them V\n",
      "📄 Characters: 11180\n",
      "✅ Saved: chapters_m4a\\chapter_1095.m4a (3515 KB)\n",
      "\n",
      "🔊 [Chapter 397] Preparing: Chapter 1096: Eno our saviour? ... At a glance it was hard to tell that the old man who was by Quinn's side, was Richard Eno. ... However, Oscar had long since felt that he looked somewhat familiar. ... Being told who he was, he couldn't deny a certain resemblance to the image he had seen of a younger version of Ricahrd Eno with different coloured hair. ... 'Richard Eno, one of the great saviours of humanityâ¦ is a vampire? ... What do they mean by this?' Oscar was baffled at the implication. ... \"How dare you?! ... \" Innu wasn't so chalant to hold back his reaction. ... He almost stood up, but was quickly kicked under the table by those sitting next to him. ... It was an offence for those of a lower ranking to stand up without permission. ... Innu coughed before he corrected himself. ... \"Are you really telling us that Richard Eno, the great scientist who made it possible for us to activate the power of the beast weapons, and the inventor of the teleporters that aided us in the first war is that very man sitting next to you?! ... What's more we are to believe that he is responsible for all those V's we have to deal with now? ... I'm sorry, but that sounds like a lot of bogus! ... Heck, that man doesn't even look like Richard! ... \" Rather than looking at the person who was throwing out accusations, instead Richard was looking directly back at Quinn and it appeared as if the two were in the middle of a staring competition until Richard finally spoke. ... \"My 'Grandson' is correct. ... \" Richard said putting a lot of emphasis on the word indicating their connection to each other. ... \"You see, I am one of the first vampires known in existence, something we call an Original. ... You want the truth, then I shall tell you the truth. ... \" Richard stood up from his seat, and even Quinn was on guard. ... To be honest, he didn't exactly know what the right words to say were, but he had somewhat hoped that Eno might have a better way of phrasing things to the humans, in a way that would allow all of them to work togetherâ¦ and not just until the Dalki were dealt with. ... 'After all, that's his goal right? ... I mean I did want to annoy him a bit, but now I'm worried about what he's going to say!' Quinn was worried how things would play out. ... Was it the right call to bring him along? ... Should he make sure to silence him before it was too late? ... \"All of this is simply a family feud that you have been caught up in. ... \" Eno started to explain. ... \"I have lived for many years, and have tried my best to make sure that humans continue to live as well. ... During my time, I had many children, and those children had children of their own. ... \"\"After living for countless years I eventually chose to seclude myself and went into something you may think of as a form of hibernation. ... Now during the time I was asleep one of those distant descendants of mine created the Dalki, which he is now using to kill all those on earth. ... \"\"When I woke up, and learned of this, I of course wanted to put a stop to this. ... Judging by the fact that the person who caused all this belongs to my lineage I felt responsible. ... Lacking the means to deal with the Dalki on my own, I introduced new technologies to the world with the goal of ensuring humanity's survival. ... And here I am again, doing the same thing, but this time I needed more help. ... \"\"I turned my grandson into someone like me, and through no fault of his own, he had no choice but to turn some of his companions as well. ... I'm sorry to say, but humans have just been caught in the middle of all this mess. ... \"Quinn was utterly surprised by Richard Eno's response. ... It was actually quite accurate to the situation they were in, and he actually hadn't over complicated things either. ... On top of that, he made sure to mention that Quinn had been pushed into a situation he didn't wish to be in. ... His story also made it sound like there weren't many vampires out there, and that he had turned Quinn just to get some allies on his side. ... As for the others, they were struggling to take it all in. ... The Dalki, a mysterious force that was large, more powerful and had better technology than them, had attacked them from space. ... What else could they think other than they were aliens trying to invade and attack them.'The Dalki were created by vampiresâ¦. ... And a descendant of Richard Eno is the cause of all this.' Oscar repeated in his head to make sure all the information he had was right. ... 'Now it makes sense why there are vampires helping the Dalki, but there's no way to confirm if any of this is true.'\"Why have you been quiet this whole time? ... Why did they create something like the Dalki? ... Why are they attacking us? ... \" Samantha bombarded him with questions. ... Eno shrugged his shoulders as he sat back down in his seat. ... \"Even parents are unable to completely control what becomes of their children. ... We are merely able to guide them on their path. ... Keep in mind that I am old, very old and I have no idea why my descendant chose to do what he did. ... Maybe you guys did something to annoy him, or perhaps it's something else? ... \"\"Are you trying to pin the blame on us? ... \" Innu questioned in fury. ... \"Do you know how many humans died because of the Dalki? ... Family members, soldiers, students, everyone got dragged into this mess through no fault of their own. ... And right now, the person who caused all of this is in front of us! ... \"Quinn could sympathize with how Innu was feeling at this moment. ... He had felt the same way. ... However one person's actions didn't dictate a whole race of people. ... Even Quinn had seen that there were bad vampires and good vampires, just like people. ... \"What exactly do you want me to do about it, Head General Innu? ... \" Richard asked back. ... \"Am I not already doing more than what should be expected of me? ... I introduced technology that wasn't ready for your world, and even more. ... Once again I have come forward fighting, and I have turned to my precious family who had no part to play in this originally just to fight by your side. ... \" \"Let me tell you something, you are not in the position to complain about what has happened. ... We don't have to help you. ... \" Eno stated as his eyes started to glow red, and like a turtle, Innu's head naturally started to sink down into his body, as he felt the strong presence coming across the table. ... \"That's enough. ... \" Oscar interrupted. ... \"I understand the situation, and you are correct. ... I am very grateful that all of you are helping us, Quinn I can't imagine what you must have gone through because of all of this, and Richard we still haven't forgotten all the great feats you have accomplished. ... As you said you are not the one to blame. ... \" \"I wish you could continue to share whatever information you guys know about the Dalki and more, but I assume you have already done as much as you can. ... From what I have gathered there are two sides to the vampires, one that is under your control Eno, and the ones under control of your descendant. ... \" \"However, we have also learnt that their numbers may be able to increase as we go on. ... Can I ask, I assume that the vampire we have captured is from your descendant. ... Quinn, you asked me to keep him here, what exactly do you plan to do? ... \"\"First, as this meeting is coming to an end. ... I think we should keep most of what we said a secret. ... It won't improve their morale or change the goal in the end. ... I think the most important part is that everyone knows the traits of the V's. ... For now we can explain that a human who is working with them has a certain ability. ... \"As for your question, That's what we want to find out. ... \" Quinn replied. ... \"Where is his creator, who sent him, and where the hell he is so we can put a stop to this whole thing once and for all. ... \"******Get access to the MVS webtoon on P. ... a. ... t. ... r. ... e. ... o. ... n it's only $3 dollar a month And read My werewolf system Exclusively. ... If you want to support you can on my P. ... A. ... T. ... R. ... E. ... O. ... N: jksmangaFor MVS artwork and updates follow on Instagram and Facebook: jksmanga\n",
      "📄 Characters: 8264\n",
      "✅ Saved: chapters_m4a\\chapter_1096.m4a (2853 KB)\n",
      "\n",
      "🔊 [Chapter 398] Preparing: Chapter 1097: The missing man\n",
      "📄 Characters: 10360\n",
      "✅ Saved: chapters_m4a\\chapter_1097.m4a (3515 KB)\n",
      "\n",
      "🔊 [Chapter 399] Preparing: Chapter 1098: A pick up\n",
      "📄 Characters: 7824\n",
      "✅ Saved: chapters_m4a\\chapter_1098.m4a (2748 KB)\n",
      "\n",
      "🔊 [Chapter 400] Preparing: Chapter 1099: The return of a trio\n",
      "📄 Characters: 9074\n",
      "✅ Saved: chapters_m4a\\chapter_1099.m4a (3071 KB)\n",
      "\n"
     ]
    }
   ],
   "source": [
    "chapters = extract_actual_chapters(\"audio_books/9kafe.com-my-vampire-system-c701-1400.epub\")\n",
    "print(chapters[2])  # Should print Chapter 702 with body\n",
    "\n",
    "#start index = 700 + start_index (701 => 1, 800 => 100, 900 => 200, etc.)\n",
    "# Save chapters starting from Chapter 701 (index 70) to 50 chapters\n",
    "#930 done!\n",
    "await save_chapters_to_m4a(chapters, max_chapters=50, start_index=400)"
   ]
  }
 ],
 "metadata": {
  "kernelspec": {
   "display_name": ".venv",
   "language": "python",
   "name": "python3"
  },
  "language_info": {
   "codemirror_mode": {
    "name": "ipython",
    "version": 3
   },
   "file_extension": ".py",
   "mimetype": "text/x-python",
   "name": "python",
   "nbconvert_exporter": "python",
   "pygments_lexer": "ipython3",
   "version": "3.11.0"
  }
 },
 "nbformat": 4,
 "nbformat_minor": 5
}
