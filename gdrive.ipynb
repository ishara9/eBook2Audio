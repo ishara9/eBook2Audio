{
 "cells": [
  {
   "cell_type": "code",
   "execution_count": null,
   "id": "77fbea80",
   "metadata": {},
   "outputs": [],
   "source": [
    "pip install --upgrade google-api-python-client google-auth-httplib2 google-auth-oauthlib\n"
   ]
  },
  {
   "cell_type": "code",
   "execution_count": null,
   "id": "b298d0e2",
   "metadata": {},
   "outputs": [
    {
     "name": "stdout",
     "output_type": "stream",
     "text": [
      "Uploaded file ID: 1K82sxdBetPIIzsGq7rIhWq_1XubYozHA\n"
     ]
    }
   ],
   "source": [
    "import os\n",
    "from google.oauth2.credentials import Credentials\n",
    "from google_auth_oauthlib.flow import InstalledAppFlow\n",
    "from googleapiclient.discovery import build\n",
    "from googleapiclient.http import MediaFileUpload\n",
    "\n",
    "# If modifying scopes, delete the file token.json.\n",
    "SCOPES = ['https://www.googleapis.com/auth/drive.file']\n",
    "\n",
    "def upload_file_to_drive(filepath, filename=None, folder_id=None):\n",
    "    creds = None\n",
    "    if os.path.exists('token.json'):\n",
    "        creds = Credentials.from_authorized_user_file('token.json', SCOPES)\n",
    "\n",
    "    if not creds or not creds.valid:\n",
    "        if creds and creds.expired and creds.refresh_token:\n",
    "            creds.refresh(Request())\n",
    "        else:\n",
    "            flow = InstalledAppFlow.from_client_secrets_file(\n",
    "                'credentials.json', SCOPES)\n",
    "            creds = flow.run_local_server(port=0)\n",
    "        with open('token.json', 'w') as token:\n",
    "            token.write(creds.to_json())\n",
    "\n",
    "    service = build('drive', 'v3', credentials=creds)\n",
    "\n",
    "    file_metadata = {\n",
    "        'name': filename or os.path.basename(filepath),\n",
    "        'parents': [folder_id] if folder_id else []\n",
    "    }\n",
    "\n",
    "    media = MediaFileUpload(filepath, resumable=True)\n",
    "\n",
    "    file = service.files().create(\n",
    "        body=file_metadata,\n",
    "        media_body=media,\n",
    "        fields='id'\n",
    "    ).execute()\n",
    "\n",
    "    print(f\"Uploaded file ID: {file.get('id')}\")\n",
    "\n",
    "# folder id is url id e.g. https://drive.google.com/drive/u/1/folders/1wk9tIDqagqaGUAo-rhcFkllJZAmOkr7K\n",
    "upload_file_to_drive('chapters_m4a/chapter_1121.m4a', folder_id=\"1wk9tIDqagqaGUAo-rhcFkllJZAmOkr7K\")\n"
   ]
  }
 ],
 "metadata": {
  "kernelspec": {
   "display_name": ".venv",
   "language": "python",
   "name": "python3"
  },
  "language_info": {
   "codemirror_mode": {
    "name": "ipython",
    "version": 3
   },
   "file_extension": ".py",
   "mimetype": "text/x-python",
   "name": "python",
   "nbconvert_exporter": "python",
   "pygments_lexer": "ipython3",
   "version": "3.11.0"
  }
 },
 "nbformat": 4,
 "nbformat_minor": 5
}
